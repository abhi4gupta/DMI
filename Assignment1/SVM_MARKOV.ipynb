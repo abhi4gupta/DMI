{
  "nbformat": 4,
  "nbformat_minor": 0,
  "metadata": {
    "colab": {
      "name": "SVM_MARKOV.ipynb",
      "provenance": [],
      "collapsed_sections": []
    },
    "kernelspec": {
      "name": "python3",
      "display_name": "Python 3"
    }
  },
  "cells": [
    {
      "cell_type": "code",
      "metadata": {
        "id": "vZaaAqwKNLYk"
      },
      "source": [
        "# DMW Assignment \r\n",
        "#implementation of generalisation ability of svm based on markov sampling\r\n",
        "#Magic Dataset \r\n",
        "#Done by \r\n",
        "#iit2018117 (Palak Mittal)\r\n",
        "#iit2018119 (Nehal Singh)\r\n",
        "#iit2018187 (Abhishek Kumar Gupta)\r\n",
        "#iit2018191 (Puja Kumari)\r\n",
        "#iit2018195 (Prabha Kumari)\r\n",
        "\r\n",
        "\r\n",
        "\r\n",
        "#importing library\r\n",
        "import numpy as np\r\n",
        "import pandas as pd\r\n",
        "from mpl_toolkits.mplot3d import Axes3D\r\n",
        "from sklearn.preprocessing import StandardScaler\r\n",
        "from sklearn.svm import SVC\r\n",
        "from sklearn.model_selection import train_test_split\r\n",
        "from sklearn import metrics\r\n",
        "from sklearn.metrics import confusion_matrix\r\n",
        "from sklearn.model_selection import KFold\r\n",
        "from sklearn.model_selection import cross_val_score\r\n",
        "from sklearn.model_selection import GridSearchCV\r\n",
        "import matplotlib.pyplot as plt\r\n",
        "import seaborn as sns\r\n",
        "from sklearn.preprocessing import scale"
      ],
      "execution_count": 1,
      "outputs": []
    },
    {
      "cell_type": "code",
      "metadata": {
        "id": "0Fr9QrANNw_F"
      },
      "source": [
        "#importing dataset of letter recognisation\r\n",
        "Data = pd.read_csv(\"/content/Magic.csv\")"
      ],
      "execution_count": 148,
      "outputs": []
    },
    {
      "cell_type": "code",
      "metadata": {
        "colab": {
          "base_uri": "https://localhost:8080/",
          "height": 627
        },
        "id": "idt3uHvbOUNK",
        "outputId": "05611751-6a97-4b7e-f7e4-ca18461d1a23"
      },
      "source": [
        "#description of that dataset\r\n",
        "\r\n",
        "# 1.dimensions\r\n",
        "print(\"1.shape of dataset (Dimension): \", Data.shape, \"\\n\")\r\n",
        "# 2.datatype\r\n",
        "print(\"2. data Information \\n\")\r\n",
        "print(Data.info())\r\n",
        "# 3.real look\r\n",
        "Data = Data.sample(frac=1,random_state=42).reset_index(drop=True)\r\n",
        "Data=Data.drop(['Unnamed: 0'],axis = 1)\r\n",
        "Data.head()"
      ],
      "execution_count": 149,
      "outputs": [
        {
          "output_type": "stream",
          "text": [
            "1.shape of dataset (Dimension):  (19020, 12) \n",
            "\n",
            "2. data Information \n",
            "\n",
            "<class 'pandas.core.frame.DataFrame'>\n",
            "RangeIndex: 19020 entries, 0 to 19019\n",
            "Data columns (total 12 columns):\n",
            " #   Column      Non-Null Count  Dtype  \n",
            "---  ------      --------------  -----  \n",
            " 0   Unnamed: 0  19020 non-null  int64  \n",
            " 1   fLength     19020 non-null  float64\n",
            " 2   fWidth      19020 non-null  float64\n",
            " 3   fSize       19020 non-null  float64\n",
            " 4   fConc       19020 non-null  float64\n",
            " 5   fConc1      19020 non-null  float64\n",
            " 6   fAsym       19020 non-null  float64\n",
            " 7   fM3Long     19020 non-null  float64\n",
            " 8   fM3Trans    19020 non-null  float64\n",
            " 9   fAlpha      19020 non-null  float64\n",
            " 10  fDist       19020 non-null  float64\n",
            " 11  class       19020 non-null  object \n",
            "dtypes: float64(10), int64(1), object(1)\n",
            "memory usage: 1.7+ MB\n",
            "None\n"
          ],
          "name": "stdout"
        },
        {
          "output_type": "execute_result",
          "data": {
            "text/html": [
              "<div>\n",
              "<style scoped>\n",
              "    .dataframe tbody tr th:only-of-type {\n",
              "        vertical-align: middle;\n",
              "    }\n",
              "\n",
              "    .dataframe tbody tr th {\n",
              "        vertical-align: top;\n",
              "    }\n",
              "\n",
              "    .dataframe thead th {\n",
              "        text-align: right;\n",
              "    }\n",
              "</style>\n",
              "<table border=\"1\" class=\"dataframe\">\n",
              "  <thead>\n",
              "    <tr style=\"text-align: right;\">\n",
              "      <th></th>\n",
              "      <th>fLength</th>\n",
              "      <th>fWidth</th>\n",
              "      <th>fSize</th>\n",
              "      <th>fConc</th>\n",
              "      <th>fConc1</th>\n",
              "      <th>fAsym</th>\n",
              "      <th>fM3Long</th>\n",
              "      <th>fM3Trans</th>\n",
              "      <th>fAlpha</th>\n",
              "      <th>fDist</th>\n",
              "      <th>class</th>\n",
              "    </tr>\n",
              "  </thead>\n",
              "  <tbody>\n",
              "    <tr>\n",
              "      <th>0</th>\n",
              "      <td>48.0573</td>\n",
              "      <td>11.0862</td>\n",
              "      <td>2.9571</td>\n",
              "      <td>0.3620</td>\n",
              "      <td>0.1882</td>\n",
              "      <td>0.4200</td>\n",
              "      <td>32.4358</td>\n",
              "      <td>-2.2992</td>\n",
              "      <td>26.9300</td>\n",
              "      <td>165.2240</td>\n",
              "      <td>h</td>\n",
              "    </tr>\n",
              "    <tr>\n",
              "      <th>1</th>\n",
              "      <td>23.4858</td>\n",
              "      <td>0.0000</td>\n",
              "      <td>2.2393</td>\n",
              "      <td>0.7378</td>\n",
              "      <td>0.3775</td>\n",
              "      <td>-2.9397</td>\n",
              "      <td>13.0915</td>\n",
              "      <td>0.0001</td>\n",
              "      <td>19.3410</td>\n",
              "      <td>235.3420</td>\n",
              "      <td>g</td>\n",
              "    </tr>\n",
              "    <tr>\n",
              "      <th>2</th>\n",
              "      <td>40.5429</td>\n",
              "      <td>19.4073</td>\n",
              "      <td>3.3382</td>\n",
              "      <td>0.2369</td>\n",
              "      <td>0.1269</td>\n",
              "      <td>29.1908</td>\n",
              "      <td>27.0567</td>\n",
              "      <td>-7.1243</td>\n",
              "      <td>10.0643</td>\n",
              "      <td>195.6030</td>\n",
              "      <td>g</td>\n",
              "    </tr>\n",
              "    <tr>\n",
              "      <th>3</th>\n",
              "      <td>16.6123</td>\n",
              "      <td>7.8423</td>\n",
              "      <td>2.5572</td>\n",
              "      <td>0.5829</td>\n",
              "      <td>0.3371</td>\n",
              "      <td>6.7271</td>\n",
              "      <td>-10.3448</td>\n",
              "      <td>-2.3240</td>\n",
              "      <td>14.5111</td>\n",
              "      <td>214.2655</td>\n",
              "      <td>h</td>\n",
              "    </tr>\n",
              "    <tr>\n",
              "      <th>4</th>\n",
              "      <td>205.4250</td>\n",
              "      <td>37.7936</td>\n",
              "      <td>3.2727</td>\n",
              "      <td>0.2167</td>\n",
              "      <td>0.1257</td>\n",
              "      <td>46.0952</td>\n",
              "      <td>-210.9350</td>\n",
              "      <td>-29.7478</td>\n",
              "      <td>60.0580</td>\n",
              "      <td>206.1730</td>\n",
              "      <td>h</td>\n",
              "    </tr>\n",
              "  </tbody>\n",
              "</table>\n",
              "</div>"
            ],
            "text/plain": [
              "    fLength   fWidth   fSize   fConc  ...  fM3Trans   fAlpha     fDist  class\n",
              "0   48.0573  11.0862  2.9571  0.3620  ...   -2.2992  26.9300  165.2240      h\n",
              "1   23.4858   0.0000  2.2393  0.7378  ...    0.0001  19.3410  235.3420      g\n",
              "2   40.5429  19.4073  3.3382  0.2369  ...   -7.1243  10.0643  195.6030      g\n",
              "3   16.6123   7.8423  2.5572  0.5829  ...   -2.3240  14.5111  214.2655      h\n",
              "4  205.4250  37.7936  3.2727  0.2167  ...  -29.7478  60.0580  206.1730      h\n",
              "\n",
              "[5 rows x 11 columns]"
            ]
          },
          "metadata": {
            "tags": []
          },
          "execution_count": 149
        }
      ]
    },
    {
      "cell_type": "code",
      "metadata": {
        "colab": {
          "base_uri": "https://localhost:8080/"
        },
        "id": "T5takWwWPxJk",
        "outputId": "8c9126e3-09de-4635-c15c-f786808f850d"
      },
      "source": [
        "#printing cloumn names\r\n",
        "print(Data.columns) "
      ],
      "execution_count": 150,
      "outputs": [
        {
          "output_type": "stream",
          "text": [
            "Index(['fLength', 'fWidth', 'fSize', 'fConc', 'fConc1', 'fAsym', 'fM3Long',\n",
            "       'fM3Trans', 'fAlpha', 'fDist', 'class'],\n",
            "      dtype='object')\n"
          ],
          "name": "stdout"
        }
      ]
    },
    {
      "cell_type": "code",
      "metadata": {
        "colab": {
          "base_uri": "https://localhost:8080/"
        },
        "id": "N3td69x3UhaI",
        "outputId": "fc0ec336-8013-4dba-f3ad-08cd3e62be0f"
      },
      "source": [
        "#printing letters in order\r\n",
        "m=len(Data['class'])\r\n",
        "count0=0\r\n",
        "for i in range(m):\r\n",
        "  # print(Data['letter'][i])\r\n",
        "  if ord(Data['class'][i])==ord('g'):\r\n",
        "    # label.append(1)\r\n",
        "    Data['class'][i]=1\r\n",
        "    count0+=1\r\n",
        "  else:\r\n",
        "    if ord(Data['class'][i])==ord('h'):\r\n",
        "    # label.append(-1) \r\n",
        "     Data['class'][i]=-1  \r\n",
        "print(count0)\r\n",
        "oreder_sequence = list(np.sort(Data['class'].unique()))\r\n",
        "print(oreder_sequence)"
      ],
      "execution_count": 151,
      "outputs": [
        {
          "output_type": "stream",
          "text": [
            "/usr/local/lib/python3.7/dist-packages/ipykernel_launcher.py:13: SettingWithCopyWarning: \n",
            "A value is trying to be set on a copy of a slice from a DataFrame\n",
            "\n",
            "See the caveats in the documentation: https://pandas.pydata.org/pandas-docs/stable/user_guide/indexing.html#returning-a-view-versus-a-copy\n",
            "  del sys.path[0]\n",
            "/usr/local/lib/python3.7/dist-packages/ipykernel_launcher.py:8: SettingWithCopyWarning: \n",
            "A value is trying to be set on a copy of a slice from a DataFrame\n",
            "\n",
            "See the caveats in the documentation: https://pandas.pydata.org/pandas-docs/stable/user_guide/indexing.html#returning-a-view-versus-a-copy\n",
            "  \n"
          ],
          "name": "stderr"
        },
        {
          "output_type": "stream",
          "text": [
            "12332\n",
            "[-1, 1]\n"
          ],
          "name": "stdout"
        }
      ]
    },
    {
      "cell_type": "code",
      "metadata": {
        "colab": {
          "base_uri": "https://localhost:8080/",
          "height": 218
        },
        "id": "BoExhh2K-CFo",
        "outputId": "6068c5fe-3040-4b60-eaef-c2295d9cab39"
      },
      "source": [
        "Data_train=Data.sample(frac=0.666667)\r\n",
        "Data_test = Data.drop(Data_train.index)\r\n",
        "# Data_train=Data_train.sample(n=2000,replace='False')\r\n",
        "print(Data_train.shape)\r\n",
        "Data_train.head()"
      ],
      "execution_count": 152,
      "outputs": [
        {
          "output_type": "stream",
          "text": [
            "(12680, 11)\n"
          ],
          "name": "stdout"
        },
        {
          "output_type": "execute_result",
          "data": {
            "text/html": [
              "<div>\n",
              "<style scoped>\n",
              "    .dataframe tbody tr th:only-of-type {\n",
              "        vertical-align: middle;\n",
              "    }\n",
              "\n",
              "    .dataframe tbody tr th {\n",
              "        vertical-align: top;\n",
              "    }\n",
              "\n",
              "    .dataframe thead th {\n",
              "        text-align: right;\n",
              "    }\n",
              "</style>\n",
              "<table border=\"1\" class=\"dataframe\">\n",
              "  <thead>\n",
              "    <tr style=\"text-align: right;\">\n",
              "      <th></th>\n",
              "      <th>fLength</th>\n",
              "      <th>fWidth</th>\n",
              "      <th>fSize</th>\n",
              "      <th>fConc</th>\n",
              "      <th>fConc1</th>\n",
              "      <th>fAsym</th>\n",
              "      <th>fM3Long</th>\n",
              "      <th>fM3Trans</th>\n",
              "      <th>fAlpha</th>\n",
              "      <th>fDist</th>\n",
              "      <th>class</th>\n",
              "    </tr>\n",
              "  </thead>\n",
              "  <tbody>\n",
              "    <tr>\n",
              "      <th>3323</th>\n",
              "      <td>69.9328</td>\n",
              "      <td>24.5931</td>\n",
              "      <td>3.1355</td>\n",
              "      <td>0.1816</td>\n",
              "      <td>0.1007</td>\n",
              "      <td>-90.9638</td>\n",
              "      <td>47.6857</td>\n",
              "      <td>6.7437</td>\n",
              "      <td>1.8664</td>\n",
              "      <td>270.8220</td>\n",
              "      <td>1</td>\n",
              "    </tr>\n",
              "    <tr>\n",
              "      <th>15927</th>\n",
              "      <td>40.9586</td>\n",
              "      <td>17.5945</td>\n",
              "      <td>2.7955</td>\n",
              "      <td>0.2802</td>\n",
              "      <td>0.1817</td>\n",
              "      <td>-7.9106</td>\n",
              "      <td>21.8974</td>\n",
              "      <td>-8.4883</td>\n",
              "      <td>2.9065</td>\n",
              "      <td>171.9550</td>\n",
              "      <td>1</td>\n",
              "    </tr>\n",
              "    <tr>\n",
              "      <th>15411</th>\n",
              "      <td>72.3434</td>\n",
              "      <td>24.8566</td>\n",
              "      <td>2.8069</td>\n",
              "      <td>0.2761</td>\n",
              "      <td>0.1396</td>\n",
              "      <td>41.1614</td>\n",
              "      <td>77.3764</td>\n",
              "      <td>-9.0058</td>\n",
              "      <td>79.8860</td>\n",
              "      <td>87.5884</td>\n",
              "      <td>1</td>\n",
              "    </tr>\n",
              "    <tr>\n",
              "      <th>5100</th>\n",
              "      <td>40.3810</td>\n",
              "      <td>23.8161</td>\n",
              "      <td>2.8069</td>\n",
              "      <td>0.2632</td>\n",
              "      <td>0.1517</td>\n",
              "      <td>-15.4082</td>\n",
              "      <td>36.5620</td>\n",
              "      <td>15.0864</td>\n",
              "      <td>6.8587</td>\n",
              "      <td>87.1968</td>\n",
              "      <td>-1</td>\n",
              "    </tr>\n",
              "    <tr>\n",
              "      <th>3473</th>\n",
              "      <td>36.9879</td>\n",
              "      <td>14.5757</td>\n",
              "      <td>2.5466</td>\n",
              "      <td>0.4056</td>\n",
              "      <td>0.1948</td>\n",
              "      <td>4.4752</td>\n",
              "      <td>8.1027</td>\n",
              "      <td>14.0264</td>\n",
              "      <td>81.9143</td>\n",
              "      <td>182.4165</td>\n",
              "      <td>-1</td>\n",
              "    </tr>\n",
              "  </tbody>\n",
              "</table>\n",
              "</div>"
            ],
            "text/plain": [
              "       fLength   fWidth   fSize   fConc  ...  fM3Trans   fAlpha     fDist  class\n",
              "3323   69.9328  24.5931  3.1355  0.1816  ...    6.7437   1.8664  270.8220      1\n",
              "15927  40.9586  17.5945  2.7955  0.2802  ...   -8.4883   2.9065  171.9550      1\n",
              "15411  72.3434  24.8566  2.8069  0.2761  ...   -9.0058  79.8860   87.5884      1\n",
              "5100   40.3810  23.8161  2.8069  0.2632  ...   15.0864   6.8587   87.1968     -1\n",
              "3473   36.9879  14.5757  2.5466  0.4056  ...   14.0264  81.9143  182.4165     -1\n",
              "\n",
              "[5 rows x 11 columns]"
            ]
          },
          "metadata": {
            "tags": []
          },
          "execution_count": 152
        }
      ]
    },
    {
      "cell_type": "code",
      "metadata": {
        "colab": {
          "base_uri": "https://localhost:8080/"
        },
        "id": "cYBEmOVcB1mN",
        "outputId": "1d815db1-9027-4279-f0fe-11272849a287"
      },
      "source": [
        "\r\n",
        "count0=0\r\n",
        "kl=len(Data_train)\r\n",
        "print(kl)\r\n",
        "for x in Data_train['class']:\r\n",
        "  if x==1:\r\n",
        "    count0+=1\r\n",
        "print(count0)\r\n"
      ],
      "execution_count": 153,
      "outputs": [
        {
          "output_type": "stream",
          "text": [
            "12680\n",
            "8193\n"
          ],
          "name": "stdout"
        }
      ]
    },
    {
      "cell_type": "code",
      "metadata": {
        "id": "4Dik4Z-QLIhR"
      },
      "source": [
        "def svm_random(Data_train):\r\n",
        "  pp=0;\r\n",
        "  linear_model = SVC(kernel='linear')\r\n",
        "  accs=[]\r\n",
        "  while pp<20:\r\n",
        "    Data_random=Data_train.sample(n=500,random_state=pp+1)\r\n",
        "    X_train = Data_random.drop(['class'],axis = 1)\r\n",
        "    y_train = Data_random['class']\r\n",
        "    y_train=y_train.astype('int')\r\n",
        "    X_test = Data_test.drop(['class'],axis = 1)\r\n",
        "    y_test =  Data_test['class']\r\n",
        "    y_test=y_test.astype('int')\r\n",
        "    linear_model.fit(X_train,y_train)\r\n",
        "    y_pred = linear_model.predict(X_test)\r\n",
        "    pp+=1\r\n",
        "    acc=metrics.accuracy_score(y_true = y_test,y_pred = y_pred)\r\n",
        "    accs.append(1-acc)\r\n",
        "  plt.title(\"misclassification graph for random\")  \r\n",
        "  plt.xlabel(\"X axis\")  \r\n",
        "  plt.ylabel(\"Y axis\")  \r\n",
        "  plt.plot(np.arange(1,21), accs, color =\"red\")  \r\n",
        "  plt.show()\r\n",
        "  return 100*np.mean(accs),100*np.std(accs)"
      ],
      "execution_count": 169,
      "outputs": []
    },
    {
      "cell_type": "code",
      "metadata": {
        "colab": {
          "base_uri": "https://localhost:8080/",
          "height": 312
        },
        "id": "oEPsbv4uGZpf",
        "outputId": "05b67032-69ec-45f0-be18-4b0c16e8b57d"
      },
      "source": [
        "print(\"mean misclassification rate for random sample with std\",svm_random(Data_train))"
      ],
      "execution_count": 171,
      "outputs": [
        {
          "output_type": "display_data",
          "data": {
            "image/png": "[encoded data removed]",
            "text/plain": [
              "<Figure size 432x288 with 1 Axes>"
            ]
          },
          "metadata": {
            "tags": [],
            "needs_background": "light"
          }
        },
        {
          "output_type": "stream",
          "text": [
            "mean misclassification rate for random sample with std (21.297318611987382, 0.2561270889440842)\n"
          ],
          "name": "stdout"
        }
      ]
    },
    {
      "cell_type": "code",
      "metadata": {
        "id": "69lmjezYc192"
      },
      "source": [
        "def loss(f,z):\r\n",
        "  if f*z>1:\r\n",
        "    return 0\r\n",
        "  else:\r\n",
        "    return (1-f*z)"
      ],
      "execution_count": 161,
      "outputs": []
    },
    {
      "cell_type": "code",
      "metadata": {
        "id": "N2amjVBRTFjJ"
      },
      "source": [
        "import math\r\n",
        "#here is main Algorithm proposed in the paper\r\n",
        "def markovsampling(df):\r\n",
        "  linear_model = SVC(kernel='linear')\r\n",
        "  dtr=df.copy()\r\n",
        "  X_train = dtr.drop(['class'],axis = 1)\r\n",
        "  y_train = dtr['class']\r\n",
        "  y_train=y_train.astype('int')\r\n",
        "  linear_model.fit(X_train,y_train)\r\n",
        "  sample = df[0:0]\r\n",
        "  m0=0\r\n",
        "  m1=0\r\n",
        "  zt=dtr.sample(n=1)\r\n",
        "  ztl=zt.to_numpy()\r\n",
        "  id=len(sample)\r\n",
        "  sample = sample.append(pd.DataFrame(ztl,index=[id+1],columns=sample.columns))\r\n",
        "  dtr=dtr.drop(zt.index)\r\n",
        "  yl=zt['class'].to_numpy()\r\n",
        "  yt=yl[0]\r\n",
        "  if yt==-1:\r\n",
        "    m0+=1\r\n",
        "  else:\r\n",
        "    m1+=1\r\n",
        "  ydt=linear_model.predict(zt.drop(['class'],axis = 1))\r\n",
        "  kvalmax=10\r\n",
        "  kval=0\r\n",
        "  while (m0<m/2 or m1<m/2) and len(dtr)>0:\r\n",
        "    id=len(sample)\r\n",
        "    zst=dtr.sample(n=1)\r\n",
        "    zstl=zst.to_numpy()\r\n",
        "    dtr=dtr.drop(zst.index)\r\n",
        "    ysl=zst['class'].to_numpy()\r\n",
        "    yst=ysl[0]\r\n",
        "    ydst=linear_model.predict(zst.drop(['class'],axis = 1))\r\n",
        "    pr=math.exp(-loss(ydst,ydst))/math.exp(-loss(ydt,yt))\r\n",
        "    if pr==1 and yt==-1 and yst==-1:\r\n",
        "      sample = sample.append(pd.DataFrame(zstl,index=[id+1],columns=sample.columns))\r\n",
        "    elif pr==1 and yt==1 and yst==1:\r\n",
        "      sample = sample.append(pd.DataFrame(zstl,index=[id+1],columns=sample.columns))\r\n",
        "    elif (pr==1 and yt*yst==-1) or pr<0:\r\n",
        "      sample = sample.append(pd.DataFrame(zstl,index=[id+1],columns=sample.columns))\r\n",
        "    elif pr>1:\r\n",
        "      sample = sample.append(pd.DataFrame(zstl,index=[id+1],columns=sample.columns))\r\n",
        "    elif kval==kvalmax:\r\n",
        "      sample = sample.append(pd.DataFrame(zstl,index=[id+1],columns=sample.columns))\r\n",
        "      kval=0\r\n",
        "    else:\r\n",
        "      kval+=1\r\n",
        "    zt=zst\r\n",
        "    if yst==-1:\r\n",
        "     m0+=1\r\n",
        "    else:\r\n",
        "     m1+=1\r\n",
        "  return sample\r\n",
        "    \r\n"
      ],
      "execution_count": 162,
      "outputs": []
    },
    {
      "cell_type": "code",
      "metadata": {
        "id": "CXwrYqH6HlMS"
      },
      "source": [
        "def svm_markov(Data_train):\r\n",
        "  pp=0;\r\n",
        "  linear_model = SVC(kernel='linear')\r\n",
        "  accs=[]\r\n",
        "  while pp<20:\r\n",
        "    dtr=Data_train.sample(n=500)\r\n",
        "    dtr.reset_index(drop=True, inplace=True)  \r\n",
        "    Data_markov=markovsampling(dtr)\r\n",
        "    # print(Data_markov.shape)\r\n",
        "    X_train = Data_markov.drop(['class'],axis = 1)\r\n",
        "    y_train = Data_markov['class']\r\n",
        "    y_train=y_train.astype('int')\r\n",
        "    X_test = Data_test.drop(['class'],axis = 1)\r\n",
        "    y_test =  Data_test['class']\r\n",
        "    y_test=y_test.astype('int')\r\n",
        "    linear_model.fit(X_train,y_train)\r\n",
        "    y_pred = linear_model.predict(X_test)\r\n",
        "    acc=metrics.accuracy_score(y_true = y_test,y_pred = y_pred)\r\n",
        "    accs.append(1-acc)\r\n",
        "    pp+=1\r\n",
        "  plt.title(\"misclassification graph for markov\")  \r\n",
        "  plt.xlabel(\"X axis\")  \r\n",
        "  plt.ylabel(\"Y axis\")  \r\n",
        "  plt.plot(np.arange(1,21), accs, color =\"red\")  \r\n",
        "  plt.show()\r\n",
        "  return 100*np.mean(accs),100*np.std(accs)"
      ],
      "execution_count": 172,
      "outputs": []
    },
    {
      "cell_type": "code",
      "metadata": {
        "id": "nNRqI2_FHTpw",
        "colab": {
          "base_uri": "https://localhost:8080/",
          "height": 312
        },
        "outputId": "b7227340-0b68-4d1e-a5fc-178be5267ce7"
      },
      "source": [
        "print(\"mean misclassification rate for markov sample\",svm_markov(Data_train))"
      ],
      "execution_count": 174,
      "outputs": [
        {
          "output_type": "display_data",
          "data": {
            "image/png": "[encoded data removed]",
            "text/plain": [
              "<Figure size 432x288 with 1 Axes>"
            ]
          },
          "metadata": {
            "tags": [],
            "needs_background": "light"
          }
        },
        {
          "output_type": "stream",
          "text": [
            "mean misclassification rate for markov sample (21.04968454258675, 0.24574694356243504)\n"
          ],
          "name": "stdout"
        }
      ]
    }
  ]
}
